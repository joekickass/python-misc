{
 "cells": [
  {
   "cell_type": "markdown",
   "metadata": {},
   "source": [
    "# Daily Coding Problem\n",
    "\n",
    "[https://www.dailycodingproblem.com/](https://www.dailycodingproblem.com/)"
   ]
  },
  {
   "cell_type": "markdown",
   "metadata": {},
   "source": [
    "## 13 September 2018\n",
    "\n",
    "Good morning! Here's your coding interview problem for today.\n",
    "\n",
    "This problem was recently asked by Google.\n",
    "\n",
    "Given a list of numbers and a number `k`, return whether any two numbers from the list add up to `k`.\n",
    "\n",
    "For example, given `[10, 15, 3, 7]` and `k` of `17`, return `true` since `10 + 7 = 17`.\n",
    "\n",
    "Bonus: Can you do this in one pass?"
   ]
  },
  {
   "cell_type": "code",
   "execution_count": 8,
   "metadata": {},
   "outputs": [],
   "source": [
    "def two_k(l, k):\n",
    "    for i in range(len(l)):\n",
    "        for j in range(len(l)):\n",
    "            if i != j and l[i] + l[j] == k:\n",
    "                return True\n",
    "    return False"
   ]
  },
  {
   "cell_type": "code",
   "execution_count": 9,
   "metadata": {},
   "outputs": [
    {
     "name": "stdout",
     "output_type": "stream",
     "text": [
      "True\n"
     ]
    }
   ],
   "source": [
    "l = [10, 15, 3, 7]\n",
    "k = 17\n",
    "\n",
    "ret = two_k(l, k)\n",
    "print(ret)"
   ]
  },
  {
   "cell_type": "markdown",
   "metadata": {},
   "source": [
    "### Solution"
   ]
  },
  {
   "cell_type": "code",
   "execution_count": 12,
   "metadata": {},
   "outputs": [],
   "source": [
    "def two_sum(lst, k):\n",
    "    \"\"\"O(N^2)\"\"\"\n",
    "    for i in range(len(lst)):\n",
    "        for j in range(len(lst)):\n",
    "            if i != j and lst[i] + lst[j] == k:\n",
    "                return True\n",
    "    return False\n",
    "\n",
    "def two_sum(lst, k):\n",
    "    \"\"\"O(N); lookups in set is O(1)\"\"\"\n",
    "    seen = set()\n",
    "    for num in lst:\n",
    "        if k - num in seen:\n",
    "            return True\n",
    "        seen.add(num)\n",
    "    return False"
   ]
  },
  {
   "cell_type": "markdown",
   "metadata": {},
   "source": [
    "## 14th September 2018\n",
    "\n",
    "This is your coding interview problem for today.\n",
    "\n",
    "This problem was asked by Uber.\n",
    "\n",
    "Given an array of integers, return a new array such that each element at index i of the new array is the product of all the numbers in the original array except the one at i.\n",
    "\n",
    "For example, if our input was [1, 2, 3, 4, 5], the expected output would be [120, 60, 40, 30, 24]. If our input was [3, 2, 1], the expected output would be [2, 3, 6].\n",
    "\n",
    "Follow-up: what if you can't use division?\n",
    "\n",
    "We will be sending the solution tomorrow, along with tomorrow's question. As always, feel free to shoot us an email if there's anything we can help with.\n",
    "\n",
    "Have a great day!"
   ]
  },
  {
   "cell_type": "code",
   "execution_count": 45,
   "metadata": {},
   "outputs": [],
   "source": [
    "def prod_i(l):\n",
    "    \"\"\"O(N^2)\"\"\"\n",
    "    ret = [1] * len(l)\n",
    "    for i in range(len(l)):\n",
    "        for j in range(len(l)):\n",
    "            if i != j:\n",
    "                ret[i] *= l[j]\n",
    "    return ret"
   ]
  },
  {
   "cell_type": "code",
   "execution_count": 46,
   "metadata": {},
   "outputs": [
    {
     "name": "stdout",
     "output_type": "stream",
     "text": [
      "[120, 60, 40, 30, 24]\n",
      "[2, 3, 6]\n"
     ]
    }
   ],
   "source": [
    "l1 = [1, 2, 3, 4, 5]\n",
    "print(prod_i(l1))\n",
    "\n",
    "l2 = [3,2,1]\n",
    "print(prod_i(l2))"
   ]
  },
  {
   "cell_type": "markdown",
   "metadata": {},
   "source": [
    "### Solution"
   ]
  },
  {
   "cell_type": "code",
   "execution_count": 53,
   "metadata": {},
   "outputs": [],
   "source": [
    "def products_1(l):\n",
    "    \"\"\"O(2N) -> O(N)\"\"\"\n",
    "    p = 1\n",
    "    for i in l:\n",
    "        p *= i\n",
    "    return [ int(p / i) for i in l ]"
   ]
  },
  {
   "cell_type": "code",
   "execution_count": 52,
   "metadata": {},
   "outputs": [
    {
     "name": "stdout",
     "output_type": "stream",
     "text": [
      "[120, 60, 40, 30, 24]\n",
      "[2, 3, 6]\n"
     ]
    }
   ],
   "source": [
    "print(products_1(l1))\n",
    "print(products_1(l2))"
   ]
  },
  {
   "cell_type": "code",
   "execution_count": 56,
   "metadata": {},
   "outputs": [],
   "source": [
    "def products_2(l):\n",
    "    \"\"\"\n",
    "    In order to find the product of numbers before i, we can generate a list of prefix products.\n",
    "    Specifically, the ith element in the list would be a product of all numbers including i.\n",
    "    Similarly, we would generate the list of suffix products.\n",
    "    \"\"\"\n",
    "    prefix_products = []\n",
    "    for i in l:\n",
    "        if prefix_products:\n",
    "            prefix_products.append(prefix_products[-1] * i)\n",
    "        else:\n",
    "            prefix_products.append(i)\n",
    "\n",
    "    suffix_products = []\n",
    "    for i in reversed(l):\n",
    "        if suffix_products:\n",
    "            suffix_products.append(suffix_products[-1] * i)\n",
    "        else:\n",
    "            suffix_products.append(i)\n",
    "\n",
    "    ret = []\n",
    "    for i in range(len(l)):\n",
    "        if i == 0:\n",
    "            ret.append(suffix_products[i + 1])\n",
    "        elif i == len(l) - 1:\n",
    "            ret.append(prefix_products[i - 1])\n",
    "        else:\n",
    "            ret.append(prefix_products[i - 1] * suffix_products[i + 1])\n",
    "        \n",
    "    return ret"
   ]
  },
  {
   "cell_type": "code",
   "execution_count": 57,
   "metadata": {},
   "outputs": [
    {
     "name": "stdout",
     "output_type": "stream",
     "text": [
      "[20, 60, 240, 720, 24]\n",
      "[2, 18, 6]\n"
     ]
    }
   ],
   "source": [
    "print(products_2(l1))\n",
    "print(products_2(l2))"
   ]
  },
  {
   "cell_type": "code",
   "execution_count": null,
   "metadata": {},
   "outputs": [],
   "source": []
  }
 ],
 "metadata": {
  "kernelspec": {
   "display_name": "Python 3",
   "language": "python",
   "name": "python3"
  },
  "language_info": {
   "codemirror_mode": {
    "name": "ipython",
    "version": 3
   },
   "file_extension": ".py",
   "mimetype": "text/x-python",
   "name": "python",
   "nbconvert_exporter": "python",
   "pygments_lexer": "ipython3",
   "version": "3.6.5"
  }
 },
 "nbformat": 4,
 "nbformat_minor": 2
}
