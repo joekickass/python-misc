{
 "cells": [
  {
   "cell_type": "markdown",
   "metadata": {},
   "source": [
    "# Daily Coding Problem\n",
    "\n",
    "[https://www.dailycodingproblem.com/](https://www.dailycodingproblem.com/)"
   ]
  },
  {
   "cell_type": "markdown",
   "metadata": {},
   "source": [
    "## 13 September 2018\n",
    "\n",
    "Good morning! Here's your coding interview problem for today.\n",
    "\n",
    "This problem was recently asked by Google.\n",
    "\n",
    "Given a list of numbers and a number `k`, return whether any two numbers from the list add up to `k`.\n",
    "\n",
    "For example, given `[10, 15, 3, 7]` and `k` of `17`, return `true` since `10 + 7 = 17`.\n",
    "\n",
    "Bonus: Can you do this in one pass?"
   ]
  },
  {
   "cell_type": "code",
   "execution_count": 8,
   "metadata": {},
   "outputs": [],
   "source": [
    "def two_k(l, k):\n",
    "    for i in range(len(l)):\n",
    "        for j in range(len(l)):\n",
    "            if i != j and l[i] + l[j] == k:\n",
    "                return True\n",
    "    return False"
   ]
  },
  {
   "cell_type": "code",
   "execution_count": 9,
   "metadata": {},
   "outputs": [
    {
     "name": "stdout",
     "output_type": "stream",
     "text": [
      "True\n"
     ]
    }
   ],
   "source": [
    "l = [10, 15, 3, 7]\n",
    "k = 17\n",
    "\n",
    "ret = two_k(l, k)\n",
    "print(ret)"
   ]
  },
  {
   "cell_type": "markdown",
   "metadata": {},
   "source": [
    "### Solution"
   ]
  },
  {
   "cell_type": "code",
   "execution_count": null,
   "metadata": {},
   "outputs": [],
   "source": [
    "def two_sum(lst, k):\n",
    "    \"\"\"O(N^2)\"\"\"\n",
    "    for i in range(len(lst)):\n",
    "        for j in range(len(lst)):\n",
    "            if i != j and lst[i] + lst[j] == k:\n",
    "                return True\n",
    "  return False\n",
    "\n",
    "def two_sum(lst, k):\n",
    "    \"\"\"O(N); lookups in set is O(1)\"\"\"\n",
    "    seen = set()\n",
    "    for num in lst:\n",
    "        if k - num in seen:\n",
    "            return True\n",
    "        seen.add(num)\n",
    "    return False"
   ]
  }
 ],
 "metadata": {
  "kernelspec": {
   "display_name": "Python 3",
   "language": "python",
   "name": "python3"
  },
  "language_info": {
   "codemirror_mode": {
    "name": "ipython",
    "version": 3
   },
   "file_extension": ".py",
   "mimetype": "text/x-python",
   "name": "python",
   "nbconvert_exporter": "python",
   "pygments_lexer": "ipython3",
   "version": "3.6.5"
  }
 },
 "nbformat": 4,
 "nbformat_minor": 2
}
