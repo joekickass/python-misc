{
 "cells": [
  {
   "cell_type": "markdown",
   "metadata": {},
   "source": [
    "# Python misc"
   ]
  },
  {
   "cell_type": "markdown",
   "metadata": {},
   "source": [
    "## Sorting\n",
    "\n",
    "[https://www.youtube.com/watch?v=kPRA0W1kECg](https://www.youtube.com/watch?v=kPRA0W1kECg)"
   ]
  },
  {
   "cell_type": "markdown",
   "metadata": {},
   "source": [
    "### Selection sort\n",
    "\n",
    "Finding the minimum value in a given list and move it to a sorted list. Then repeat the process for each of the remaining elements in the unsorted list. The next element entering the sorted list is compared with the existing elements and placed at its correct position.\n",
    "\n",
    "#### Time complexity\n",
    "\n",
    "Worst case:\n",
    "\n",
    "O(n^2 / 2) ???"
   ]
  },
  {
   "cell_type": "code",
   "execution_count": 3,
   "metadata": {},
   "outputs": [],
   "source": [
    "def selection_sort(input_list):\n",
    "    \n",
    "    # for num, name in enumerate(presidents, start=1):\n",
    "    for i in range(len(input_list)):        \n",
    "        min_i = i\n",
    "        \n",
    "        # loop from i to end of list\n",
    "        for j in range(i+1, len(input_list)):    \n",
    "\n",
    "            # is current selection less than current minimum, set new minimum\n",
    "            if input_list[min_i] > input_list[j]:\n",
    "                min_i = j\n",
    "\n",
    "            # move min value to i by swapping places\n",
    "            input_list[i], input_list[min_i] = input_list[min_i], input_list[i]"
   ]
  },
  {
   "cell_type": "code",
   "execution_count": 4,
   "metadata": {},
   "outputs": [
    {
     "name": "stdout",
     "output_type": "stream",
     "text": [
      "[2, 11, 19, 27, 30, 31, 45, 121]\n"
     ]
    }
   ],
   "source": [
    "l = [19,2,31,45,30,11,121,27]\n",
    "selection_sort(l)\n",
    "print(l)"
   ]
  },
  {
   "cell_type": "markdown",
   "metadata": {},
   "source": [
    "### Insertion sort\n",
    "\n",
    "Insertion sort involves finding the right place for a given element in a sorted list. So in beginning we compare the first two elements and sort them by comparing them. Then we pick the third element and find its proper position among the previous two sorted elements. This way we gradually go on adding more elements to the already sorted list by putting them in their proper position."
   ]
  },
  {
   "cell_type": "code",
   "execution_count": 10,
   "metadata": {},
   "outputs": [],
   "source": [
    "def insertion_sort(input_list):\n",
    "    \n",
    "    for i in range(1, len(input_list)):\n",
    "    \n",
    "        # current element\n",
    "        j = i-1\n",
    "\n",
    "        # next element\n",
    "        nxt_element = input_list[i]\n",
    "\n",
    "        # Compare the current element with next one\n",
    "        while (input_list[j] > nxt_element) and (j >= 0):\n",
    "            \n",
    "            # move all elements \"right\" until correct position is found\n",
    "            input_list[j+1] = input_list[j]\n",
    "            \n",
    "            j = j-1\n",
    "\n",
    "        # insert next element in the proper position\n",
    "        input_list[j+1] = nxt_element"
   ]
  },
  {
   "cell_type": "code",
   "execution_count": 11,
   "metadata": {},
   "outputs": [
    {
     "name": "stdout",
     "output_type": "stream",
     "text": [
      "[2, 11, 19, 27, 30, 31, 45, 121]\n"
     ]
    }
   ],
   "source": [
    "l = [19,2,31,45,30,11,121,27]\n",
    "insertion_sort(l)\n",
    "print(l)"
   ]
  },
  {
   "cell_type": "markdown",
   "metadata": {},
   "source": [
    "### Quick sort\n",
    "\n",
    "TODO\n",
    "\n",
    "O(n logn)"
   ]
  },
  {
   "cell_type": "code",
   "execution_count": 16,
   "metadata": {},
   "outputs": [],
   "source": [
    "def partition(array, begin, end):\n",
    "    pivot = begin\n",
    "    for i in range(begin+1, end+1):\n",
    "        if array[i] <= array[begin]:\n",
    "            pivot += 1\n",
    "            array[i], array[pivot] = array[pivot], array[i]\n",
    "    array[pivot], array[begin] = array[begin], array[pivot]\n",
    "    return pivot\n",
    "\n",
    "\n",
    "\n",
    "def quick_sort(array, begin=0, end=None):\n",
    "    if end is None:\n",
    "        end = len(array) - 1\n",
    "    def _quicksort(array, begin, end):\n",
    "        if begin >= end:\n",
    "            return\n",
    "        pivot = partition(array, begin, end)\n",
    "        _quicksort(array, begin, pivot-1)\n",
    "        _quicksort(array, pivot+1, end)\n",
    "    return _quicksort(array, begin, end)"
   ]
  },
  {
   "cell_type": "code",
   "execution_count": 17,
   "metadata": {},
   "outputs": [
    {
     "name": "stdout",
     "output_type": "stream",
     "text": [
      "[2, 11, 19, 27, 30, 31, 45, 121]\n"
     ]
    }
   ],
   "source": [
    "l = [19,2,31,45,30,11,121,27]\n",
    "quick_sort(l)\n",
    "print(l)"
   ]
  },
  {
   "cell_type": "markdown",
   "metadata": {},
   "source": [
    "## Fourier transform\n",
    "\n",
    "## Real-time programming\n",
    "Producer/Consumer problem\n",
    "Queues as in kinesislogger\n",
    "\n",
    "- Semaphores\n",
    "- Monitors\n",
    "- Message-based (events)\n",
    "\n",
    "## Websockets\n",
    "\n",
    "## LoRa\n",
    "\n",
    "## Optimistic locking\n",
    "\n",
    "## Interview questions\n",
    "\n",
    "- [https://simpleprogrammer.com/programming-interview-questions/](https://simpleprogrammer.com/programming-interview-questions/)\n",
    "- [https://www.geeksforgeeks.org/top-10-algorithms-in-interview-questions/](https://www.geeksforgeeks.org/top-10-algorithms-in-interview-questions/)"
   ]
  },
  {
   "cell_type": "code",
   "execution_count": null,
   "metadata": {},
   "outputs": [],
   "source": []
  }
 ],
 "metadata": {
  "kernelspec": {
   "display_name": "Python 3",
   "language": "python",
   "name": "python3"
  },
  "language_info": {
   "codemirror_mode": {
    "name": "ipython",
    "version": 3
   },
   "file_extension": ".py",
   "mimetype": "text/x-python",
   "name": "python",
   "nbconvert_exporter": "python",
   "pygments_lexer": "ipython3",
   "version": "3.6.5"
  }
 },
 "nbformat": 4,
 "nbformat_minor": 2
}
